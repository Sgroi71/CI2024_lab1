{
 "cells": [
  {
   "cell_type": "markdown",
   "metadata": {},
   "source": [
    "Copyright **`(c)`** 2024 Giovanni Squillero `<giovanni.squillero@polito.it>`  \n",
    "[`https://github.com/squillero/computational-intelligence`](https://github.com/squillero/computational-intelligence)  \n",
    "Free for personal or classroom use; see [`LICENSE.md`](https://github.com/squillero/computational-intelligence/blob/master/LICENSE.md) for details.  "
   ]
  },
  {
   "cell_type": "markdown",
   "metadata": {},
   "source": [
    "# Set Cover problem\n",
    "\n",
    "See: https://en.wikipedia.org/wiki/Set_cover_problem"
   ]
  },
  {
   "cell_type": "code",
   "execution_count": 1,
   "metadata": {},
   "outputs": [],
   "source": [
    "from random import random, seed\n",
    "from itertools import product,accumulate\n",
    "import numpy as np\n",
    "from tqdm.auto import tqdm\n",
    "from icecream import ic\n",
    "from matplotlib import pyplot as plt"
   ]
  },
  {
   "cell_type": "markdown",
   "metadata": {},
   "source": [
    "## Reproducible Initialization\n",
    "\n",
    "If you want to get reproducible results, use `rng` (and restart the kernel); for non-reproducible ones, use `np.random`."
   ]
  },
  {
   "cell_type": "code",
   "execution_count": 337,
   "metadata": {},
   "outputs": [],
   "source": [
    "UNIVERSE_SIZE = 100000\n",
    "NUM_SETS = 10000\n",
    "DENSITY = 0.1\n",
    "MAX_STEPS = 10_000\n",
    "\n",
    "rng = np.random.Generator(np.random.PCG64([UNIVERSE_SIZE, NUM_SETS, int(10_000 * DENSITY)]))\n",
    "\n"
   ]
  },
  {
   "cell_type": "code",
   "execution_count": 338,
   "metadata": {},
   "outputs": [],
   "source": [
    "# DON'T EDIT THESE LINES!\n",
    "\n",
    "SETS = np.random.random((NUM_SETS, UNIVERSE_SIZE)) < DENSITY\n",
    "for s in range(UNIVERSE_SIZE):#this fot is done in order to make sure that each element is in at least one set\n",
    "    if not np.any(SETS[:, s]):\n",
    "        SETS[np.random.randint(NUM_SETS), s] = True\n",
    "COSTS = np.pow(SETS.sum(axis=1), 1.1)\n",
    "\n"
   ]
  },
  {
   "cell_type": "markdown",
   "metadata": {},
   "source": [
    "## Helper Functions"
   ]
  },
  {
   "cell_type": "code",
   "execution_count": 339,
   "metadata": {},
   "outputs": [],
   "source": [
    "def valid(solution):\n",
    "    \"\"\"Checks wether solution is valid (ie. covers all universe)\"\"\"\n",
    "    return np.all(np.logical_or.reduce(SETS[solution]))\n",
    "\n",
    "\n",
    "def cost(solution):\n",
    "    \"\"\"Returns the cost of a solution (to be minimized)\"\"\"\n",
    "    return COSTS[solution].sum()\n",
    "\n",
    "def fitness(solution):\n",
    "    return (valid(solution),-cost(solution))"
   ]
  },
  {
   "cell_type": "markdown",
   "metadata": {},
   "source": [
    "## Have Fun!"
   ]
  },
  {
   "cell_type": "code",
   "execution_count": null,
   "metadata": {},
   "outputs": [],
   "source": [
    "# A dumb solution of \"all\" sets\n",
    "solution = np.full(NUM_SETS, True)\n",
    "valid(solution), cost(solution)\n"
   ]
  },
  {
   "cell_type": "code",
   "execution_count": null,
   "metadata": {},
   "outputs": [],
   "source": [
    "\n",
    "solution = rng.random(NUM_SETS) < 1\n",
    "valid(solution), cost(solution)"
   ]
  },
  {
   "cell_type": "markdown",
   "metadata": {},
   "source": [
    "## MULTI-MUTATION Tweak \n",
    "# parameters: solution that we want to mutate, p = probability of multi-mutation"
   ]
  },
  {
   "cell_type": "code",
   "execution_count": 342,
   "metadata": {},
   "outputs": [],
   "source": [
    "\n",
    "def tweak_multi_mutation(solution,p):\n",
    "    new_solution = solution.copy()\n",
    "    index = None\n",
    "    while index is None or np.random.random() < p:\n",
    "        index = rng.integers(0, NUM_SETS)\n",
    "        new_solution[index] = not new_solution[index]\n",
    "    return new_solution\n",
    "\n"
   ]
  },
  {
   "cell_type": "code",
   "execution_count": 343,
   "metadata": {},
   "outputs": [],
   "source": [
    "tweak=tweak_multi_mutation"
   ]
  },
  {
   "cell_type": "code",
   "execution_count": null,
   "metadata": {},
   "outputs": [],
   "source": [
    "history = [fitness(solution)[1]]\n",
    "ic(cost(solution))\n",
    "for _ in tqdm(range(MAX_STEPS)):\n",
    "    new_solution= tweak(solution,0.2)\n",
    "    f=fitness(new_solution)\n",
    "    history.append(f[1])\n",
    "    if f > fitness(solution):\n",
    "        solution = new_solution\n",
    "\n",
    "ic(cost(solution))\n",
    "ic(history.index(-cost(solution)))\n",
    "\n",
    "plt.figure(figsize=(14, 8))\n",
    "plt.plot(\n",
    "    range(len(history)),\n",
    "    list(accumulate(history, max)),\n",
    "    color=\"red\",\n",
    ")\n",
    "_ = plt.scatter(range(len(history)), history, marker=\".\")\n",
    "plt.savefig(f\"Multi-Mutation {UNIVERSE_SIZE}-{NUM_SETS}-{DENSITY}.png\")\n"
   ]
  },
  {
   "cell_type": "markdown",
   "metadata": {},
   "source": [
    "## Simulated Annealing"
   ]
  },
  {
   "cell_type": "code",
   "execution_count": 332,
   "metadata": {},
   "outputs": [],
   "source": [
    "tweak=tweak_multi_mutation\n",
    "solution = rng.random(NUM_SETS) < 1"
   ]
  },
  {
   "cell_type": "code",
   "execution_count": null,
   "metadata": {},
   "outputs": [],
   "source": [
    "history = [fitness(solution)[1]]\n",
    "ic(cost(solution))\n",
    "for step in tqdm(range(MAX_STEPS)):\n",
    "    new_solution= tweak(solution,0.2)\n",
    "    f=fitness(new_solution)\n",
    "    history.append(f[1])\n",
    "    if f > fitness(solution):\n",
    "        solution = new_solution\n",
    "    else:\n",
    "        temperture = 1-step/MAX_STEPS\n",
    "        #pick only valid solutions\n",
    "        if f[0] and np.random.random() < np.exp((f[1]-fitness(solution)[1])/temperture):\n",
    "            ic(\"pick worsen solution\")\n",
    "            solution = new_solution\n",
    "    \n",
    "ic(-cost(solution))\n",
    "ic(history.index(-cost(solution)))\n",
    "\n",
    "plt.figure(figsize=(14, 8))\n",
    "plt.plot(\n",
    "    range(len(history)),\n",
    "    list(accumulate(history, max)),\n",
    "    color=\"red\",\n",
    ")\n",
    "_ = plt.scatter(range(len(history)), history, marker=\".\")\n",
    "plt.savefig(f\"Simulated Annealing {UNIVERSE_SIZE}-{NUM_SETS}-{DENSITY}.png\")\n"
   ]
  },
  {
   "cell_type": "markdown",
   "metadata": {},
   "source": [
    "## Steepest - Step hill climbing"
   ]
  },
  {
   "cell_type": "code",
   "execution_count": 334,
   "metadata": {},
   "outputs": [],
   "source": [
    "tweak=tweak_multi_mutation\n",
    "solution = rng.random(NUM_SETS) < 1"
   ]
  },
  {
   "cell_type": "code",
   "execution_count": null,
   "metadata": {},
   "outputs": [],
   "source": [
    "NUM_RESTARTS = 3\n",
    "STEEPEST_STEP_CANDIDATES = 5\n",
    "max_value = fitness(solution)\n",
    "num_steps = 0\n",
    "history = list()\n",
    "last_improvement = (0, 0)\n",
    "for i in tqdm(range(NUM_RESTARTS), position=0, desc=\"Restarts\"):\n",
    "    #big change in the solution (p large)\n",
    "    solution = tweak(solution,0.7)\n",
    "    while not valid(solution):\n",
    "        solution = tweak(solution,0.7)\n",
    "    f = fitness(solution)\n",
    "    history.append(f[1])\n",
    "    new_solution = solution\n",
    "    for n in tqdm(range(1000), position=1):\n",
    "        # create candidate solutions with exploitation (p small)\n",
    "        candidates = [tweak(solution,0.1) for i in range(0, STEEPEST_STEP_CANDIDATES)]\n",
    "        candidates_fitness = list()\n",
    "        for c in candidates:\n",
    "            f = fitness(c)\n",
    "            history.append(f[1])\n",
    "            candidates_fitness.append(f)\n",
    "        idx = candidates_fitness.index(max(candidates_fitness))\n",
    "\n",
    "        new_solution = candidates[idx]\n",
    "        new_fitness = candidates_fitness[idx]\n",
    "        num_steps += STEEPEST_STEP_CANDIDATES\n",
    "\n",
    "        if new_fitness > fitness(solution):\n",
    "            last_improvement = (i, n)\n",
    "            solution = new_solution\n",
    "\n",
    "    if fitness(solution) > max_value:\n",
    "        max_value = fitness(solution)\n",
    "        best_solution = solution\n",
    "\n",
    "print(f\"\\nBest solution: {max_value} found at {last_improvement} -- total steps: {num_steps}\")\n",
    "ic(cost(solution))\n",
    "ic(history.index(-cost(solution)))\n",
    "\n",
    "plt.figure(figsize=(14, 8))\n",
    "plt.plot(\n",
    "    range(len(history)),\n",
    "    list(accumulate(history, max)),\n",
    "    color=\"red\",\n",
    ")\n",
    "\n",
    "_ = plt.scatter(range(len(history)), history, marker=\".\")\n",
    "\n",
    "plt.savefig(f\"Steepest-step {UNIVERSE_SIZE}-{NUM_SETS}-{DENSITY}.png\")"
   ]
  }
 ],
 "metadata": {
  "kernelspec": {
   "display_name": "Python 3 (ipykernel)",
   "language": "python",
   "name": "python3"
  },
  "language_info": {
   "codemirror_mode": {
    "name": "ipython",
    "version": 3
   },
   "file_extension": ".py",
   "mimetype": "text/x-python",
   "name": "python",
   "nbconvert_exporter": "python",
   "pygments_lexer": "ipython3",
   "version": "3.11.8"
  }
 },
 "nbformat": 4,
 "nbformat_minor": 4
}
